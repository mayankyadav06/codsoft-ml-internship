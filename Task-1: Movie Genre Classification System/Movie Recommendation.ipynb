{
 "cells": [
  {
   "cell_type": "code",
   "execution_count": 2,
   "metadata": {},
   "outputs": [],
   "source": [
    "import pandas as pd\n",
    "import numpy as np\n",
    "import nltk \n",
    "from nltk.corpus import stopwords\n",
    "from nltk.stem import WordNetLemmatizer\n",
    "import string"
   ]
  },
  {
   "cell_type": "code",
   "execution_count": 3,
   "metadata": {},
   "outputs": [],
   "source": [
    "col_names = ['ID', 'TITLE', 'GENRE', 'DESCRIPTION']\n",
    "df = pd.read_csv('Genre Classification Dataset/train_data.txt', sep=':::', names=col_names, engine='python')"
   ]
  },
  {
   "cell_type": "code",
   "execution_count": 4,
   "metadata": {},
   "outputs": [
    {
     "name": "stdout",
     "output_type": "stream",
     "text": [
      "<class 'pandas.core.frame.DataFrame'>\n",
      "RangeIndex: 54214 entries, 0 to 54213\n",
      "Data columns (total 4 columns):\n",
      " #   Column       Non-Null Count  Dtype \n",
      "---  ------       --------------  ----- \n",
      " 0   ID           54214 non-null  int64 \n",
      " 1   TITLE        54214 non-null  object\n",
      " 2   GENRE        54214 non-null  object\n",
      " 3   DESCRIPTION  54214 non-null  object\n",
      "dtypes: int64(1), object(3)\n",
      "memory usage: 1.7+ MB\n"
     ]
    }
   ],
   "source": [
    "df.info()"
   ]
  },
  {
   "cell_type": "code",
   "execution_count": 5,
   "metadata": {},
   "outputs": [],
   "source": [
    "df[\"DESCRIPTION\"] = df[\"DESCRIPTION\"].str.translate(str.maketrans('', '', string.punctuation))"
   ]
  },
  {
   "cell_type": "code",
   "execution_count": 6,
   "metadata": {},
   "outputs": [],
   "source": [
    "df[\"DESCRIPTION\"] = df[\"DESCRIPTION\"].str.lower()"
   ]
  },
  {
   "cell_type": "code",
   "execution_count": 7,
   "metadata": {},
   "outputs": [
    {
     "data": {
      "text/plain": [
       "0         listening in to a conversation between his do...\n",
       "1         a brother and sister with a past incestuous r...\n",
       "2         as the bus empties the students for their fie...\n",
       "3         to help their unemployed father make ends mee...\n",
       "4         the films title refers not only to the unreco...\n",
       "                               ...                        \n",
       "54209     this shortlived nbc live sitcom centered on b...\n",
       "54210     the next generation of exploitation the siste...\n",
       "54211     ze bestaan echt is a standup comedy about gro...\n",
       "54212     walter and vivian live in the country and hav...\n",
       "54213     on labor day weekend 1935 the most intense hu...\n",
       "Name: DESCRIPTION, Length: 54214, dtype: object"
      ]
     },
     "execution_count": 7,
     "metadata": {},
     "output_type": "execute_result"
    }
   ],
   "source": [
    "df[\"DESCRIPTION\"]"
   ]
  },
  {
   "cell_type": "code",
   "execution_count": 8,
   "metadata": {},
   "outputs": [],
   "source": [
    "stemmer = nltk.stem.PorterStemmer()\n",
    "def tokenization(text):\n",
    "    token = nltk.word_tokenize(text)\n",
    "    a = [stemmer.stem(w) for w in token]\n",
    "    return \" \".join(a)"
   ]
  },
  {
   "cell_type": "code",
   "execution_count": 9,
   "metadata": {},
   "outputs": [],
   "source": [
    "df[\"DESCRIPTION\"] = df[\"DESCRIPTION\"].apply(lambda x: tokenization(x))"
   ]
  },
  {
   "cell_type": "code",
   "execution_count": 10,
   "metadata": {},
   "outputs": [
    {
     "data": {
      "text/plain": [
       "0        listen in to a convers between hi doctor and p...\n",
       "1        a brother and sister with a past incestu relat...\n",
       "2        as the bu empti the student for their field tr...\n",
       "3        to help their unemploy father make end meet ed...\n",
       "4        the film titl refer not onli to the unrecov bo...\n",
       "                               ...                        \n",
       "54209    thi shortliv nbc live sitcom center on bonino ...\n",
       "54210    the next gener of exploit the sister of kapa b...\n",
       "54211    ze bestaan echt is a standup comedi about grow...\n",
       "54212    walter and vivian live in the countri and have...\n",
       "54213    on labor day weekend 1935 the most intens hurr...\n",
       "Name: DESCRIPTION, Length: 54214, dtype: object"
      ]
     },
     "execution_count": 10,
     "metadata": {},
     "output_type": "execute_result"
    }
   ],
   "source": [
    "df['GENRE'] = df['GENRE'].str.translate(str.maketrans('', '', string.punctuation))\n",
    "df['GENRE'] = df['GENRE'].str.lower()\n",
    "df['GENRE'] = df['GENRE'].apply(lambda x: tokenization(x))"
   ]
  },
  {
   "cell_type": "code",
   "execution_count": 3,
   "metadata": {},
   "outputs": [],
   "source": [
    "lemmatizer = WordNetLemmatizer()\n",
    "def preprocess_text(text):\n",
    "    # Lowercase the text\n",
    "    text = text.lower()\n",
    "    \n",
    "    # Remove punctuation\n",
    "    text = text.translate(str.maketrans('', '', string.punctuation))\n",
    "    \n",
    "    # Remove stopwords\n",
    "    stop_words = set(stopwords.words('english'))\n",
    "    words = nltk.word_tokenize(text)\n",
    "    words = [word for word in words if word not in stop_words]\n",
    "    \n",
    "    # Lemmatize the words\n",
    "    words = [lemmatizer.lemmatize(word) for word in words]\n",
    "    \n",
    "    # Join the words back into a single string\n",
    "    text = ' '.join(words)\n",
    "    \n",
    "    return text"
   ]
  },
  {
   "cell_type": "code",
   "execution_count": 4,
   "metadata": {},
   "outputs": [],
   "source": [
    "# nltk.download('punkt')\n",
    "# nltk.download('stopwords')\n",
    "# nltk.download('wordnet')\n"
   ]
  },
  {
   "cell_type": "code",
   "execution_count": 5,
   "metadata": {},
   "outputs": [],
   "source": [
    "\n",
    "df['DESCRIPTION'] = df['DESCRIPTION'].apply(preprocess_text)"
   ]
  },
  {
   "cell_type": "markdown",
   "metadata": {},
   "source": [
    "Text Representation"
   ]
  },
  {
   "cell_type": "code",
   "execution_count": 11,
   "metadata": {},
   "outputs": [],
   "source": [
    "df_tfidf = df.copy()\n",
    "df_embedding = df.copy()"
   ]
  },
  {
   "cell_type": "code",
   "execution_count": 12,
   "metadata": {},
   "outputs": [],
   "source": [
    "from sklearn.feature_extraction.text import TfidfVectorizer\n",
    "\n",
    "vectorizer = TfidfVectorizer(max_features=1000, ngram_range=(1,2), analyzer=\"word\", stop_words=\"english\")\n",
    "\n",
    "# Fit and transform the 'DESCRIPTION' column\n",
    "tfidf_matrix = vectorizer.fit_transform(df_tfidf['DESCRIPTION'])"
   ]
  },
  {
   "cell_type": "code",
   "execution_count": null,
   "metadata": {},
   "outputs": [],
   "source": [
    "# import spacy\n",
    "# # Load the large English model. This model includes word vectors.\n",
    "# nlp = spacy.load('en_core_web_lg')\n",
    "\n",
    "# # Create a vector for each movie description\n",
    "# spacy_matrix = df['DESCRIPTION'].apply(lambda x: nlp(x).vector)\n"
   ]
  },
  {
   "cell_type": "markdown",
   "metadata": {},
   "source": [
    "model training"
   ]
  },
  {
   "cell_type": "code",
   "execution_count": 13,
   "metadata": {},
   "outputs": [],
   "source": [
    "# Load the test data\n",
    "test_data = pd.read_csv('Genre Classification Dataset/test_data_solution.txt', sep=':::', names=['ID', 'TITLE', 'GENRE','DESCRIPTION'], engine='python')\n",
    "\n",
    "# Preprocess the 'DESCRIPTION' column\n",
    "# test_data['DESCRIPTION'] = test_data['DESCRIPTION'].apply(preprocess_text)\n",
    "test_data[\"DESCRIPTION\"] = test_data[\"DESCRIPTION\"].str.translate(str.maketrans('', '', string.punctuation))\n",
    "test_data[\"DESCRIPTION\"] = test_data[\"DESCRIPTION\"].str.lower()\n",
    "test_data[\"DESCRIPTION\"] = test_data[\"DESCRIPTION\"].apply(lambda x: tokenization(x))\n",
    "\n",
    "\n",
    "# Transform the 'DESCRIPTION' column into TF-IDF vectors\n",
    "tfidf_matrix_test = vectorizer.transform(test_data['DESCRIPTION'])\n"
   ]
  },
  {
   "cell_type": "code",
   "execution_count": 14,
   "metadata": {},
   "outputs": [
    {
     "data": {
      "text/html": [
       "<div>\n",
       "<style scoped>\n",
       "    .dataframe tbody tr th:only-of-type {\n",
       "        vertical-align: middle;\n",
       "    }\n",
       "\n",
       "    .dataframe tbody tr th {\n",
       "        vertical-align: top;\n",
       "    }\n",
       "\n",
       "    .dataframe thead th {\n",
       "        text-align: right;\n",
       "    }\n",
       "</style>\n",
       "<table border=\"1\" class=\"dataframe\">\n",
       "  <thead>\n",
       "    <tr style=\"text-align: right;\">\n",
       "      <th></th>\n",
       "      <th>ID</th>\n",
       "      <th>TITLE</th>\n",
       "      <th>GENRE</th>\n",
       "      <th>DESCRIPTION</th>\n",
       "    </tr>\n",
       "  </thead>\n",
       "  <tbody>\n",
       "    <tr>\n",
       "      <th>0</th>\n",
       "      <td>1</td>\n",
       "      <td>Edgar's Lunch (1998)</td>\n",
       "      <td>thriller</td>\n",
       "      <td>lr brane love hi life hi car hi apart hi job b...</td>\n",
       "    </tr>\n",
       "    <tr>\n",
       "      <th>1</th>\n",
       "      <td>2</td>\n",
       "      <td>La guerra de papá (1977)</td>\n",
       "      <td>comedy</td>\n",
       "      <td>spain march 1964 quico is a veri naughti child...</td>\n",
       "    </tr>\n",
       "    <tr>\n",
       "      <th>2</th>\n",
       "      <td>3</td>\n",
       "      <td>Off the Beaten Track (2010)</td>\n",
       "      <td>documentary</td>\n",
       "      <td>one year in the life of albin and hi famili of...</td>\n",
       "    </tr>\n",
       "    <tr>\n",
       "      <th>3</th>\n",
       "      <td>4</td>\n",
       "      <td>Meu Amigo Hindu (2015)</td>\n",
       "      <td>drama</td>\n",
       "      <td>hi father ha die he hasnt spoken with hi broth...</td>\n",
       "    </tr>\n",
       "    <tr>\n",
       "      <th>4</th>\n",
       "      <td>5</td>\n",
       "      <td>Er nu zhai (1955)</td>\n",
       "      <td>drama</td>\n",
       "      <td>befor he wa known intern as a martial art supe...</td>\n",
       "    </tr>\n",
       "    <tr>\n",
       "      <th>...</th>\n",
       "      <td>...</td>\n",
       "      <td>...</td>\n",
       "      <td>...</td>\n",
       "      <td>...</td>\n",
       "    </tr>\n",
       "    <tr>\n",
       "      <th>54195</th>\n",
       "      <td>54196</td>\n",
       "      <td>\"Tales of Light &amp; Dark\" (2013)</td>\n",
       "      <td>horror</td>\n",
       "      <td>cover multipl genr tale of light dark is an an...</td>\n",
       "    </tr>\n",
       "    <tr>\n",
       "      <th>54196</th>\n",
       "      <td>54197</td>\n",
       "      <td>Der letzte Mohikaner (1965)</td>\n",
       "      <td>western</td>\n",
       "      <td>as alic and cora munro attempt to find their f...</td>\n",
       "    </tr>\n",
       "    <tr>\n",
       "      <th>54197</th>\n",
       "      <td>54198</td>\n",
       "      <td>Oliver Twink (2007)</td>\n",
       "      <td>adult</td>\n",
       "      <td>a movi 169 year in the make oliv twist the art...</td>\n",
       "    </tr>\n",
       "    <tr>\n",
       "      <th>54198</th>\n",
       "      <td>54199</td>\n",
       "      <td>Slipstream (1973)</td>\n",
       "      <td>drama</td>\n",
       "      <td>popular but mysteri rock dj mike mallard askew...</td>\n",
       "    </tr>\n",
       "    <tr>\n",
       "      <th>54199</th>\n",
       "      <td>54200</td>\n",
       "      <td>Curitiba Zero Grau (2010)</td>\n",
       "      <td>drama</td>\n",
       "      <td>curitiba is a citi in movement with rhythm and...</td>\n",
       "    </tr>\n",
       "  </tbody>\n",
       "</table>\n",
       "<p>54200 rows × 4 columns</p>\n",
       "</div>"
      ],
      "text/plain": [
       "          ID                             TITLE          GENRE  \\\n",
       "0          1             Edgar's Lunch (1998)       thriller    \n",
       "1          2         La guerra de papá (1977)         comedy    \n",
       "2          3      Off the Beaten Track (2010)    documentary    \n",
       "3          4           Meu Amigo Hindu (2015)          drama    \n",
       "4          5                Er nu zhai (1955)          drama    \n",
       "...      ...                               ...            ...   \n",
       "54195  54196   \"Tales of Light & Dark\" (2013)         horror    \n",
       "54196  54197      Der letzte Mohikaner (1965)        western    \n",
       "54197  54198              Oliver Twink (2007)          adult    \n",
       "54198  54199                Slipstream (1973)          drama    \n",
       "54199  54200        Curitiba Zero Grau (2010)          drama    \n",
       "\n",
       "                                             DESCRIPTION  \n",
       "0      lr brane love hi life hi car hi apart hi job b...  \n",
       "1      spain march 1964 quico is a veri naughti child...  \n",
       "2      one year in the life of albin and hi famili of...  \n",
       "3      hi father ha die he hasnt spoken with hi broth...  \n",
       "4      befor he wa known intern as a martial art supe...  \n",
       "...                                                  ...  \n",
       "54195  cover multipl genr tale of light dark is an an...  \n",
       "54196  as alic and cora munro attempt to find their f...  \n",
       "54197  a movi 169 year in the make oliv twist the art...  \n",
       "54198  popular but mysteri rock dj mike mallard askew...  \n",
       "54199  curitiba is a citi in movement with rhythm and...  \n",
       "\n",
       "[54200 rows x 4 columns]"
      ]
     },
     "execution_count": 14,
     "metadata": {},
     "output_type": "execute_result"
    }
   ],
   "source": [
    "test_data"
   ]
  },
  {
   "cell_type": "code",
   "execution_count": 15,
   "metadata": {},
   "outputs": [],
   "source": [
    "from sklearn.linear_model import LogisticRegression\n",
    "from sklearn.metrics import classification_report\n",
    "from sklearn.metrics import accuracy_score\n",
    "from sklearn.svm import LinearSVC\n",
    "from sklearn.svm import SVC\n",
    "from sklearn.naive_bayes import MultinomialNB\n",
    "from sklearn.tree import DecisionTreeClassifier"
   ]
  },
  {
   "cell_type": "code",
   "execution_count": 17,
   "metadata": {},
   "outputs": [
    {
     "name": "stdout",
     "output_type": "stream",
     "text": [
      "LR Accuracy: 0.5915261740509832\n",
      "LR Accuracy: 0.5511623616236162\n",
      "               precision    recall  f1-score   support\n",
      "\n",
      "      action        0.38      0.24      0.29      1314\n",
      "       adult        0.59      0.24      0.34       590\n",
      "   adventure        0.41      0.12      0.18       775\n",
      "   animation        0.38      0.08      0.13       498\n",
      "   biography        1.00      0.00      0.00       264\n",
      "      comedy        0.49      0.52      0.50      7446\n",
      "       crime        0.20      0.04      0.07       505\n",
      " documentary        0.65      0.82      0.73     13096\n",
      "       drama        0.52      0.74      0.61     13612\n",
      "      family        0.37      0.09      0.15       783\n",
      "     fantasy        0.33      0.03      0.06       322\n",
      "   game-show        0.78      0.54      0.64       193\n",
      "     history        0.00      0.00      0.00       243\n",
      "      horror        0.57      0.51      0.54      2204\n",
      "       music        0.60      0.47      0.53       731\n",
      "     musical        0.10      0.01      0.03       276\n",
      "     mystery        0.33      0.03      0.06       318\n",
      "        news        0.67      0.08      0.14       181\n",
      "  reality-tv        0.46      0.20      0.28       883\n",
      "     romance        0.27      0.03      0.05       672\n",
      "      sci-fi        0.49      0.28      0.35       646\n",
      "       short        0.43      0.30      0.35      5072\n",
      "       sport        0.49      0.21      0.29       431\n",
      "   talk-show        0.49      0.21      0.29       391\n",
      "    thriller        0.30      0.12      0.17      1590\n",
      "         war        0.60      0.05      0.08       132\n",
      "     western        0.80      0.68      0.74      1032\n",
      "\n",
      "     accuracy                           0.55     54200\n",
      "    macro avg       0.47      0.25      0.28     54200\n",
      " weighted avg       0.52      0.55      0.51     54200\n",
      "\n"
     ]
    }
   ],
   "source": [
    "lr = LogisticRegression(max_iter=200)\n",
    "lr.fit(tfidf_matrix,df_tfidf['GENRE'])\n",
    "\n",
    "lr_predictions_train = lr.predict(tfidf_matrix)\n",
    "lr_predictions_test = lr.predict(tfidf_matrix_test)\n",
    "\n",
    "\n",
    "accuracy = accuracy_score(df_tfidf['GENRE'], lr_predictions_train)\n",
    "print(f'LR Accuracy: {accuracy}')\n",
    "accuracy = accuracy_score(test_data['GENRE'], lr_predictions_test)\n",
    "print(f'LR Accuracy: {accuracy}')\n",
    "print(classification_report(test_data['GENRE'], lr_predictions_test, zero_division=1))"
   ]
  },
  {
   "cell_type": "code",
   "execution_count": 27,
   "metadata": {},
   "outputs": [
    {
     "name": "stdout",
     "output_type": "stream",
     "text": [
      "SVM Accuracy: 0.5493357933579336\n",
      "               precision    recall  f1-score   support\n",
      "\n",
      "      action        0.38      0.21      0.27      1314\n",
      "       adult        0.46      0.32      0.38       590\n",
      "   adventure        0.40      0.08      0.14       775\n",
      "   animation        0.30      0.09      0.13       498\n",
      "   biography        1.00      0.00      0.00       264\n",
      "      comedy        0.49      0.50      0.50      7446\n",
      "       crime        0.23      0.05      0.08       505\n",
      " documentary        0.65      0.83      0.73     13096\n",
      "       drama        0.53      0.73      0.61     13612\n",
      "      family        0.36      0.08      0.13       783\n",
      "     fantasy        0.24      0.04      0.07       322\n",
      "   game-show        0.61      0.60      0.61       193\n",
      "     history        0.00      0.00      0.00       243\n",
      "      horror        0.53      0.55      0.54      2204\n",
      "       music        0.54      0.50      0.52       731\n",
      "     musical        0.17      0.04      0.06       276\n",
      "     mystery        0.14      0.02      0.03       318\n",
      "        news        0.46      0.09      0.15       181\n",
      "  reality-tv        0.40      0.18      0.25       883\n",
      "     romance        0.28      0.01      0.01       672\n",
      "      sci-fi        0.41      0.31      0.35       646\n",
      "       short        0.46      0.25      0.33      5072\n",
      "       sport        0.39      0.28      0.33       431\n",
      "   talk-show        0.42      0.22      0.29       391\n",
      "    thriller        0.26      0.07      0.10      1590\n",
      "         war        0.33      0.11      0.17       132\n",
      "     western        0.70      0.74      0.72      1032\n",
      "\n",
      "     accuracy                           0.55     54200\n",
      "    macro avg       0.41      0.26      0.28     54200\n",
      " weighted avg       0.51      0.55      0.51     54200\n",
      "\n"
     ]
    }
   ],
   "source": [
    "svm = LinearSVC()\n",
    "svm.fit(tfidf_matrix, df_tfidf['GENRE'])\n",
    "\n",
    "# Make predictions on the test set\n",
    "svm_predictions = svm.predict(tfidf_matrix_test)\n",
    "\n",
    "# Calculate the accuracy of the predictions\n",
    "accuracy = accuracy_score(test_data['GENRE'], svm_predictions)\n",
    "print(f'SVM Accuracy: {accuracy}')\n",
    "print(classification_report(test_data['GENRE'], svm_predictions, zero_division=1))"
   ]
  },
  {
   "cell_type": "code",
   "execution_count": 32,
   "metadata": {},
   "outputs": [
    {
     "name": "stdout",
     "output_type": "stream",
     "text": [
      "SVM Accuracy: 0.5443542435424354\n",
      "               precision    recall  f1-score   support\n",
      "\n",
      "      action        0.36      0.19      0.25      1314\n",
      "       adult        0.43      0.29      0.35       590\n",
      "   adventure        0.33      0.06      0.10       775\n",
      "   animation        0.23      0.05      0.09       498\n",
      "   biography        0.00      0.00      0.00       264\n",
      "      comedy        0.48      0.50      0.49      7446\n",
      "       crime        0.20      0.04      0.07       505\n",
      " documentary        0.64      0.83      0.72     13096\n",
      "       drama        0.52      0.73      0.61     13612\n",
      "      family        0.37      0.08      0.12       783\n",
      "     fantasy        0.20      0.02      0.04       322\n",
      "   game-show        0.63      0.57      0.60       193\n",
      "     history        0.00      0.00      0.00       243\n",
      "      horror        0.52      0.53      0.52      2204\n",
      "       music        0.55      0.50      0.52       731\n",
      "     musical        0.13      0.03      0.05       276\n",
      "     mystery        0.27      0.04      0.08       318\n",
      "        news        0.43      0.11      0.18       181\n",
      "  reality-tv        0.41      0.20      0.27       883\n",
      "     romance        0.36      0.01      0.01       672\n",
      "      sci-fi        0.38      0.26      0.31       646\n",
      "       short        0.45      0.25      0.32      5072\n",
      "       sport        0.41      0.28      0.33       431\n",
      "   talk-show        0.41      0.21      0.28       391\n",
      "    thriller        0.28      0.06      0.10      1590\n",
      "         war        0.37      0.13      0.19       132\n",
      "     western        0.70      0.76      0.73      1032\n",
      "\n",
      "     accuracy                           0.54     54200\n",
      "    macro avg       0.37      0.25      0.27     54200\n",
      " weighted avg       0.50      0.54      0.50     54200\n",
      "\n"
     ]
    }
   ],
   "source": [
    "svc = SVC(kernel='poly')\n",
    "svc.fit(tfidf_matrix, df_tfidf['GENRE'])\n",
    "\n",
    "# Make predictions on the test set\n",
    "svc_predictions = svc.predict(tfidf_matrix_test)\n",
    "\n",
    "# Calculate the accuracy of the predictions\n",
    "accuracy = accuracy_score(test_data['GENRE'], svm_predictions)\n",
    "print(f'SVM Accuracy: {accuracy}')\n",
    "print(classification_report(test_data['GENRE'], svm_predictions, zero_division=1))"
   ]
  },
  {
   "cell_type": "code",
   "execution_count": 28,
   "metadata": {},
   "outputs": [
    {
     "name": "stdout",
     "output_type": "stream",
     "text": [
      "Naive Bayes Accuracy: 0.4886162361623616\n",
      "               precision    recall  f1-score   support\n",
      "\n",
      "      action        0.51      0.05      0.10      1314\n",
      "       adult        1.00      0.01      0.01       590\n",
      "   adventure        0.50      0.00      0.01       775\n",
      "   animation        0.33      0.00      0.00       498\n",
      "   biography        1.00      0.00      0.00       264\n",
      "      comedy        0.51      0.32      0.39      7446\n",
      "       crime        0.33      0.00      0.01       505\n",
      " documentary        0.53      0.86      0.66     13096\n",
      "       drama        0.43      0.81      0.56     13612\n",
      "      family        0.33      0.00      0.01       783\n",
      "     fantasy        1.00      0.00      0.00       322\n",
      "   game-show        0.94      0.34      0.50       193\n",
      "     history        1.00      0.00      0.00       243\n",
      "      horror        0.69      0.22      0.33      2204\n",
      "       music        0.67      0.21      0.32       731\n",
      "     musical        1.00      0.00      0.00       276\n",
      "     mystery        1.00      0.00      0.00       318\n",
      "        news        1.00      0.00      0.00       181\n",
      "  reality-tv        0.62      0.02      0.03       883\n",
      "     romance        1.00      0.00      0.00       672\n",
      "      sci-fi        0.64      0.11      0.18       646\n",
      "       short        0.55      0.06      0.11      5072\n",
      "       sport        0.82      0.05      0.10       431\n",
      "   talk-show        0.64      0.02      0.04       391\n",
      "    thriller        0.27      0.02      0.03      1590\n",
      "         war        1.00      0.00      0.00       132\n",
      "     western        0.90      0.51      0.65      1032\n",
      "\n",
      "     accuracy                           0.49     54200\n",
      "    macro avg       0.71      0.13      0.15     54200\n",
      " weighted avg       0.54      0.49      0.40     54200\n",
      "\n"
     ]
    }
   ],
   "source": [
    "# Train the model\n",
    "nb = MultinomialNB()\n",
    "nb.fit(tfidf_matrix, df_tfidf['GENRE'])\n",
    "\n",
    "# Make predictions on the test set\n",
    "nb_predictions = nb.predict(tfidf_matrix_test)\n",
    "\n",
    "# Calculate the accuracy of the predictions\n",
    "accuracy = accuracy_score(test_data['GENRE'], nb_predictions)\n",
    "print(f'Naive Bayes Accuracy: {accuracy}')\n",
    "print(classification_report(test_data['GENRE'], nb_predictions, zero_division=1))\n"
   ]
  },
  {
   "cell_type": "code",
   "execution_count": 33,
   "metadata": {},
   "outputs": [
    {
     "name": "stdout",
     "output_type": "stream",
     "text": [
      "Random Forest Accuracy: 0.48771217712177123\n",
      "               precision    recall  f1-score   support\n",
      "\n",
      "      action        0.46      0.01      0.02      1314\n",
      "       adult        0.53      0.04      0.08       590\n",
      "   adventure        0.41      0.01      0.02       775\n",
      "   animation        0.25      0.00      0.00       498\n",
      "   biography        0.00      0.00      0.00       264\n",
      "      comedy        0.46      0.32      0.38      7446\n",
      "       crime        1.00      0.01      0.01       505\n",
      " documentary        0.56      0.85      0.67     13096\n",
      "       drama        0.42      0.80      0.55     13612\n",
      "      family        0.75      0.02      0.03       783\n",
      "     fantasy        0.00      0.00      0.00       322\n",
      "   game-show        0.71      0.50      0.59       193\n",
      "     history        0.00      0.00      0.00       243\n",
      "      horror        0.58      0.20      0.29      2204\n",
      "       music        0.61      0.22      0.32       731\n",
      "     musical        0.55      0.02      0.04       276\n",
      "     mystery        1.00      0.01      0.01       318\n",
      "        news        0.00      0.00      0.00       181\n",
      "  reality-tv        0.60      0.02      0.05       883\n",
      "     romance        0.67      0.00      0.01       672\n",
      "      sci-fi        0.46      0.06      0.10       646\n",
      "       short        0.55      0.12      0.20      5072\n",
      "       sport        0.66      0.11      0.18       431\n",
      "   talk-show        0.67      0.04      0.07       391\n",
      "    thriller        0.29      0.01      0.02      1590\n",
      "         war        1.00      0.03      0.06       132\n",
      "     western        0.76      0.47      0.58      1032\n",
      "\n",
      "     accuracy                           0.49     54200\n",
      "    macro avg       0.52      0.14      0.16     54200\n",
      " weighted avg       0.50      0.49      0.41     54200\n",
      "\n"
     ]
    }
   ],
   "source": [
    "from sklearn.ensemble import RandomForestClassifier\n",
    "\n",
    "\n",
    "rf = RandomForestClassifier()\n",
    "rf.fit(tfidf_matrix, df_tfidf['GENRE'])\n",
    "\n",
    "# Make predictions on the test set\n",
    "rf_predictions = rf.predict(tfidf_matrix_test)\n",
    "\n",
    "# Calculate the accuracy of the predictions\n",
    "accuracy = accuracy_score(test_data['GENRE'], rf_predictions)\n",
    "print(f'Random Forest Accuracy: {accuracy}')\n",
    "print(classification_report(test_data['GENRE'], rf_predictions, zero_division=1))"
   ]
  },
  {
   "cell_type": "code",
   "execution_count": 32,
   "metadata": {},
   "outputs": [
    {
     "name": "stdout",
     "output_type": "stream",
     "text": [
      "Decision Tree Accuracy: 0.3463468634686347\n",
      "               precision    recall  f1-score   support\n",
      "\n",
      "      action        0.10      0.08      0.09      1314\n",
      "       adult        0.10      0.07      0.08       590\n",
      "   adventure        0.06      0.05      0.05       775\n",
      "   animation        0.04      0.02      0.03       498\n",
      "   biography        0.02      0.01      0.01       264\n",
      "      comedy        0.29      0.31      0.30      7446\n",
      "       crime        0.04      0.03      0.04       505\n",
      " documentary        0.54      0.58      0.56     13096\n",
      "       drama        0.40      0.45      0.42     13612\n",
      "      family        0.07      0.05      0.06       783\n",
      "     fantasy        0.03      0.02      0.02       322\n",
      "   game-show        0.40      0.41      0.41       193\n",
      "     history        0.01      0.01      0.01       243\n",
      "      horror        0.23      0.21      0.22      2204\n",
      "       music        0.25      0.20      0.22       731\n",
      "     musical        0.04      0.04      0.04       276\n",
      "     mystery        0.04      0.03      0.03       318\n",
      "        news        0.05      0.04      0.04       181\n",
      "  reality-tv        0.12      0.11      0.11       883\n",
      "     romance        0.06      0.05      0.05       672\n",
      "      sci-fi        0.08      0.07      0.08       646\n",
      "       short        0.22      0.21      0.21      5072\n",
      "       sport        0.15      0.12      0.14       431\n",
      "   talk-show        0.11      0.10      0.11       391\n",
      "    thriller        0.08      0.06      0.07      1590\n",
      "         war        0.02      0.02      0.02       132\n",
      "     western        0.41      0.40      0.40      1032\n",
      "\n",
      "     accuracy                           0.35     54200\n",
      "    macro avg       0.15      0.14      0.14     54200\n",
      " weighted avg       0.33      0.35      0.34     54200\n",
      "\n"
     ]
    }
   ],
   "source": [
    "dt = DecisionTreeClassifier()\n",
    "dt.fit(tfidf_matrix, df_tfidf['GENRE'])\n",
    "\n",
    "# Make predictions on the test set\n",
    "dt_predictions = dt.predict(tfidf_matrix_test)\n",
    "\n",
    "# Calculate the accuracy of the predictions\n",
    "accuracy = accuracy_score(test_data['GENRE'], dt_predictions)\n",
    "print(f'Decision Tree Accuracy: {accuracy}')\n",
    "print(classification_report(test_data['GENRE'], dt_predictions, zero_division=1))"
   ]
  }
 ],
 "metadata": {
  "kernelspec": {
   "display_name": "venv",
   "language": "python",
   "name": "python3"
  },
  "language_info": {
   "codemirror_mode": {
    "name": "ipython",
    "version": 3
   },
   "file_extension": ".py",
   "mimetype": "text/x-python",
   "name": "python",
   "nbconvert_exporter": "python",
   "pygments_lexer": "ipython3",
   "version": "3.12.4"
  }
 },
 "nbformat": 4,
 "nbformat_minor": 2
}
